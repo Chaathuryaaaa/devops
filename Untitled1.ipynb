{
  "nbformat": 4,
  "nbformat_minor": 0,
  "metadata": {
    "colab": {
      "provenance": [],
      "mount_file_id": "1Xs0eU6z_dR8Jyxr74DM1CPkcre4WZuJN",
      "authorship_tag": "ABX9TyNz9QUjA/Okve5xiJpbrAu7",
      "include_colab_link": true
    },
    "kernelspec": {
      "name": "python3",
      "display_name": "Python 3"
    },
    "language_info": {
      "name": "python"
    }
  },
  "cells": [
    {
      "cell_type": "markdown",
      "metadata": {
        "id": "view-in-github",
        "colab_type": "text"
      },
      "source": [
        "<a href=\"https://colab.research.google.com/github/Chaathuryaaaa/devops/blob/main/Untitled1.ipynb\" target=\"_parent\"><img src=\"https://colab.research.google.com/assets/colab-badge.svg\" alt=\"Open In Colab\"/></a>"
      ]
    },
    {
      "cell_type": "code",
      "execution_count": 2,
      "metadata": {
        "colab": {
          "base_uri": "https://localhost:8080/"
        },
        "id": "5bDVVG6rKKZE",
        "outputId": "ada27ef2-597a-4612-fbca-2aec51d95339"
      },
      "outputs": [
        {
          "output_type": "stream",
          "name": "stdout",
          "text": [
            "      age  anaemia  creatinine_phosphokinase  diabetes  ejection_fraction  \\\n",
            "0    75.0        0                       582         0                 20   \n",
            "1    55.0        0                      7861         0                 38   \n",
            "2    65.0        0                       146         0                 20   \n",
            "3    50.0        1                       111         0                 20   \n",
            "4    65.0        1                       160         1                 20   \n",
            "..    ...      ...                       ...       ...                ...   \n",
            "294  62.0        0                        61         1                 38   \n",
            "295  55.0        0                      1820         0                 38   \n",
            "296  45.0        0                      2060         1                 60   \n",
            "297  45.0        0                      2413         0                 38   \n",
            "298  50.0        0                       196         0                 45   \n",
            "\n",
            "     high_blood_pressure  platelets  serum_creatinine  serum_sodium  sex  \\\n",
            "0                      1  265000.00               1.9           130    1   \n",
            "1                      0  263358.03               1.1           136    1   \n",
            "2                      0  162000.00               1.3           129    1   \n",
            "3                      0  210000.00               1.9           137    1   \n",
            "4                      0  327000.00               2.7           116    0   \n",
            "..                   ...        ...               ...           ...  ...   \n",
            "294                    1  155000.00               1.1           143    1   \n",
            "295                    0  270000.00               1.2           139    0   \n",
            "296                    0  742000.00               0.8           138    0   \n",
            "297                    0  140000.00               1.4           140    1   \n",
            "298                    0  395000.00               1.6           136    1   \n",
            "\n",
            "     smoking  time  DEATH_EVENT  \n",
            "0          0     4            1  \n",
            "1          0     6            1  \n",
            "2          1     7            1  \n",
            "3          0     7            1  \n",
            "4          0     8            1  \n",
            "..       ...   ...          ...  \n",
            "294        1   270            0  \n",
            "295        0   271            0  \n",
            "296        0   278            0  \n",
            "297        1   280            0  \n",
            "298        1   285            0  \n",
            "\n",
            "[299 rows x 13 columns]\n"
          ]
        }
      ],
      "source": [
        "import pandas as pd\n",
        "X = pd.read_csv('/content/drive/MyDrive/heart_failure_clinical_records_dataset.csv')\n",
        "print(X)"
      ]
    },
    {
      "cell_type": "code",
      "source": [
        "data = X.iloc[:, 0:12]\n",
        "print(data)\n",
        "label = X.iloc[:,12:]\n",
        "print(label)\n",
        "print(data.shape)\n",
        "print(label.shape)"
      ],
      "metadata": {
        "colab": {
          "base_uri": "https://localhost:8080/"
        },
        "id": "n3KDXH9RKoA2",
        "outputId": "577878e7-bdf3-4dfb-dc47-242d9331b732"
      },
      "execution_count": 3,
      "outputs": [
        {
          "output_type": "stream",
          "name": "stdout",
          "text": [
            "      age  anaemia  creatinine_phosphokinase  diabetes  ejection_fraction  \\\n",
            "0    75.0        0                       582         0                 20   \n",
            "1    55.0        0                      7861         0                 38   \n",
            "2    65.0        0                       146         0                 20   \n",
            "3    50.0        1                       111         0                 20   \n",
            "4    65.0        1                       160         1                 20   \n",
            "..    ...      ...                       ...       ...                ...   \n",
            "294  62.0        0                        61         1                 38   \n",
            "295  55.0        0                      1820         0                 38   \n",
            "296  45.0        0                      2060         1                 60   \n",
            "297  45.0        0                      2413         0                 38   \n",
            "298  50.0        0                       196         0                 45   \n",
            "\n",
            "     high_blood_pressure  platelets  serum_creatinine  serum_sodium  sex  \\\n",
            "0                      1  265000.00               1.9           130    1   \n",
            "1                      0  263358.03               1.1           136    1   \n",
            "2                      0  162000.00               1.3           129    1   \n",
            "3                      0  210000.00               1.9           137    1   \n",
            "4                      0  327000.00               2.7           116    0   \n",
            "..                   ...        ...               ...           ...  ...   \n",
            "294                    1  155000.00               1.1           143    1   \n",
            "295                    0  270000.00               1.2           139    0   \n",
            "296                    0  742000.00               0.8           138    0   \n",
            "297                    0  140000.00               1.4           140    1   \n",
            "298                    0  395000.00               1.6           136    1   \n",
            "\n",
            "     smoking  time  \n",
            "0          0     4  \n",
            "1          0     6  \n",
            "2          1     7  \n",
            "3          0     7  \n",
            "4          0     8  \n",
            "..       ...   ...  \n",
            "294        1   270  \n",
            "295        0   271  \n",
            "296        0   278  \n",
            "297        1   280  \n",
            "298        1   285  \n",
            "\n",
            "[299 rows x 12 columns]\n",
            "     DEATH_EVENT\n",
            "0              1\n",
            "1              1\n",
            "2              1\n",
            "3              1\n",
            "4              1\n",
            "..           ...\n",
            "294            0\n",
            "295            0\n",
            "296            0\n",
            "297            0\n",
            "298            0\n",
            "\n",
            "[299 rows x 1 columns]\n",
            "(299, 12)\n",
            "(299, 1)\n"
          ]
        }
      ]
    },
    {
      "cell_type": "code",
      "source": [
        "from sklearn.model_selection import train_test_split\n",
        "X_train, X_test, Y_train, Y_test = train_test_split(data,label,test_size=0.2, train_size=0.8, random_state=0)"
      ],
      "metadata": {
        "id": "hIjXw_exK6-V"
      },
      "execution_count": 4,
      "outputs": []
    },
    {
      "cell_type": "code",
      "source": [
        "from sklearn.linear_model import LogisticRegression\n",
        "log_reg = LogisticRegression()\n",
        "print(log_reg)"
      ],
      "metadata": {
        "colab": {
          "base_uri": "https://localhost:8080/"
        },
        "id": "MfaWWNsLLRIm",
        "outputId": "32ec1259-d236-410a-b1b2-348c7c4d9f6a"
      },
      "execution_count": 9,
      "outputs": [
        {
          "output_type": "stream",
          "name": "stdout",
          "text": [
            "LogisticRegression()\n"
          ]
        }
      ]
    },
    {
      "cell_type": "code",
      "source": [
        "print(log_reg.fit(X_train,Y_train.values.ravel()))\n",
        "l=log_reg.score(X_test,Y_test)\n",
        "print(l)\n",
        "m=log_reg.predict(X_train[10:20])\n",
        "print(m)\n"
      ],
      "metadata": {
        "colab": {
          "base_uri": "https://localhost:8080/"
        },
        "id": "fR8ItdEgLkCf",
        "outputId": "f49bd587-ce7e-473f-c863-32241edaea3b"
      },
      "execution_count": 10,
      "outputs": [
        {
          "output_type": "stream",
          "name": "stdout",
          "text": [
            "LogisticRegression()\n",
            "0.7333333333333333\n",
            "[0 0 0 1 1 0 1 0 0 0]\n"
          ]
        }
      ]
    },
    {
      "cell_type": "code",
      "source": [
        "from sklearn.neighbors import KNeighborsClassifier\n",
        "\n",
        "knn_clf = KNeighborsClassifier()\n",
        "knn_clf.fit(X_train, Y_train)\n"
      ],
      "metadata": {
        "colab": {
          "base_uri": "https://localhost:8080/"
        },
        "id": "Alxk595qPcH6",
        "outputId": "eba903f2-e341-4497-a268-b17518098d88"
      },
      "execution_count": 11,
      "outputs": [
        {
          "output_type": "stream",
          "name": "stderr",
          "text": [
            "/usr/local/lib/python3.8/dist-packages/sklearn/neighbors/_classification.py:198: DataConversionWarning: A column-vector y was passed when a 1d array was expected. Please change the shape of y to (n_samples,), for example using ravel().\n",
            "  return self._fit(X, y)\n"
          ]
        },
        {
          "output_type": "execute_result",
          "data": {
            "text/plain": [
              "KNeighborsClassifier()"
            ]
          },
          "metadata": {},
          "execution_count": 11
        }
      ]
    },
    {
      "cell_type": "code",
      "source": [
        "l=knn_clf.predict(X_train[10:20])\n",
        "print(l)"
      ],
      "metadata": {
        "colab": {
          "base_uri": "https://localhost:8080/"
        },
        "id": "bTFlqgcCREHC",
        "outputId": "248f0a6d-88be-4875-90dc-abe8fbe7862a"
      },
      "execution_count": 12,
      "outputs": [
        {
          "output_type": "stream",
          "name": "stdout",
          "text": [
            "[0 0 0 0 0 0 1 0 0 0]\n"
          ]
        }
      ]
    },
    {
      "cell_type": "code",
      "source": [
        "l=knn_clf.score(X_test,Y_test)\n",
        "print(l)"
      ],
      "metadata": {
        "colab": {
          "base_uri": "https://localhost:8080/"
        },
        "id": "GAhIJhBlRHSh",
        "outputId": "21ae9a3d-d1b2-4797-c937-2d26f68cb192"
      },
      "execution_count": 13,
      "outputs": [
        {
          "output_type": "stream",
          "name": "stdout",
          "text": [
            "0.48333333333333334\n"
          ]
        }
      ]
    },
    {
      "cell_type": "code",
      "source": [],
      "metadata": {
        "id": "BXmTlXN5RIuJ"
      },
      "execution_count": null,
      "outputs": []
    }
  ]
}